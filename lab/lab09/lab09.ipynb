{
 "cells": [
  {
   "cell_type": "code",
   "execution_count": null,
   "metadata": {
    "deletable": false,
    "editable": false
   },
   "outputs": [],
   "source": [
    "# Initialize Otter\n",
    "import otter\n",
    "grader = otter.Notebook(\"lab09.ipynb\")"
   ]
  },
  {
   "cell_type": "markdown",
   "metadata": {},
   "source": [
    "<table style=\"width: 100%;\">\n",
    "    <tr style=\"background-color: transparent;\"><td>\n",
    "        <img src=\"https://data-88e.github.io/assets/images/blue_text.png\" width=\"250px\" style=\"margin-left: 0;\" />\n",
    "    </td><td>\n",
    "        <p style=\"text-align: right; font-size: 10pt;\"><strong>Economic Models</strong>, Spring 2021<br>\n",
    "            Dr. Eric Van Dusen<br>\n",
    "        Notebook by Andrei Caprau<br>\n",
    "        </p></td></tr>\n",
    "</table>"
   ]
  },
  {
   "cell_type": "markdown",
   "metadata": {},
   "source": [
    "# Lab 9: Finance"
   ]
  },
  {
   "cell_type": "markdown",
   "metadata": {},
   "source": [
    "In this lab we'll go over some of the concepts taught in lecture and explore how we can better understand these concepts."
   ]
  },
  {
   "cell_type": "code",
   "execution_count": 91,
   "metadata": {},
   "outputs": [],
   "source": [
    "import numpy as np\n",
    "import matplotlib.pyplot as plt\n",
    "import matplotlib.patches as patches\n",
    "import sympy\n",
    "from ipywidgets import interact, interactive, fixed, interact_manual\n",
    "import ipywidgets as widgets\n",
    "from IPython.display import display\n",
    "from scipy import stats\n",
    "import warnings\n",
    "from datascience import *\n",
    "warnings.filterwarnings('ignore')\n",
    "plt.style.use(\"seaborn-muted\")\n",
    "%matplotlib inline"
   ]
  },
  {
   "cell_type": "markdown",
   "metadata": {},
   "source": [
    "## Compounding Interest"
   ]
  },
  {
   "cell_type": "markdown",
   "metadata": {},
   "source": [
    "We mentioned in this week's lesson how interest in one year builds on top of not only the principal amount of money deposited into an account, but also the interest earned in previous years. This can be very powerful.\n",
    "\n",
    "Below is a tool that simulates a retirement or savings account. Each year, a fixed amount is deposited into the account. This is represented by `deposits`. In addition, the account compounds interest from last year's balance, with constant interest rate `r`. **`r` is expressed as a proportion. So if an account yields 10% interest, `r = 0.1`**. `t` is how many years this account accrues interest. In this example, if `t` is 0, the balance in the account is just the deposit. If `t` is 1, the balance in the account is the initial deposit after interest has compounded, plus the next year's deposit."
   ]
  },
  {
   "cell_type": "markdown",
   "metadata": {
    "deletable": false,
    "editable": false
   },
   "source": [
    "**Question 1:** Complete the code for `plot_comp_interest`. Notice that the list called `balance` tracks the current balance in the account each year. We've given you the first element in that list. For each year after the first, how do you calculate the balance in the account?\n",
    "\n",
    "*Hint*: Recall that the account grows through interest and yearly deposits.\n",
    "\n",
    "<!--\n",
    "BEGIN QUESTION\n",
    "name: q1\n",
    "points:\n",
    "    - 0\n",
    "    - 1\n",
    "-->"
   ]
  },
  {
   "cell_type": "code",
   "execution_count": 92,
   "metadata": {},
   "outputs": [],
   "source": [
    "def plot_comp_interest(deposits, r, t, out=True):\n",
    "    # This initiates a list where we will store the balance in the account for each year.\n",
    "    balance = make_array()\n",
    "    balance = np.append(balance, deposits)\n",
    "    \n",
    "    # For each year, this adds an element to the list of balances.\n",
    "    for _ in range(t):\n",
    "        balance = np.append(balance, balance.item(-1) * ... + ...)\n",
    "        \n",
    "    if out:\n",
    "        plt.figure(figsize=(8,6))\n",
    "        plt.plot(np.arange(t + 1), balance)\n",
    "        plt.xlabel('Time in Years')\n",
    "        plt.ylabel('Account Balance')\n",
    "        plt.title('Account Balance Over Time')\n",
    "        plt.ylim((0, 1000000))\n",
    "        plt.xlim((0, t))\n",
    "\n",
    "        print('Balance after {} years: {}'.format(t, np.round(balance.item(-1), 2)))\n",
    "        print('Balance if there were no interest: {}'.format(deposits * (t + 1)))\n",
    "\n",
    "    return balance.item(-1) # Return the last element of balance."
   ]
  },
  {
   "cell_type": "code",
   "execution_count": null,
   "metadata": {
    "deletable": false,
    "editable": false
   },
   "outputs": [],
   "source": [
    "grader.check(\"q1\")"
   ]
  },
  {
   "cell_type": "markdown",
   "metadata": {},
   "source": [
    "Run the cell below to generate an interactive plot where you can adjust the three variables in `plot_comp_interest` to see what happens to the balance in the account."
   ]
  },
  {
   "cell_type": "code",
   "execution_count": 95,
   "metadata": {},
   "outputs": [],
   "source": [
    "deposits_slider = widgets.IntSlider(min = 500, max = 10000, step = 500, value = 5000)\n",
    "r_slider = widgets.FloatSlider(min = 0.01, max = 0.2, step = 0.01, value = 0.1)\n",
    "t_slider = widgets.IntSlider(min = 10, max = 30, step = 1, value = 20)\n",
    "interact(plot_comp_interest, deposits = deposits_slider, r = r_slider, t = t_slider)"
   ]
  },
  {
   "cell_type": "markdown",
   "metadata": {
    "deletable": false,
    "editable": false
   },
   "source": [
    "**Question 2**: Try out the sliders. Assign the variables `q2_1`, `q2_2`, and `q2_3`, corresponding to each of the statements below, to `True` or `False` depending on the accuracy of the statement.\n",
    "\n",
    "1. As you increase the amount of the fixed deposits, the balance in the account grows faster.\n",
    "2. As you increase the interest rate, the balance in the account grows faster.\n",
    "3. As you invest into the account for longer periods of time, you are left with a smaller account balance than if you had invested for a shorter period of time.\n",
    "\n",
    "<!--\n",
    "BEGIN QUESTION\n",
    "name: q2\n",
    "points:\n",
    "    - 0\n",
    "    - .5\n",
    "    - .5\n",
    "    - .5\n",
    "-->"
   ]
  },
  {
   "cell_type": "code",
   "execution_count": 6,
   "metadata": {},
   "outputs": [],
   "source": [
    "q2_1 = ...\n",
    "q2_2 = ...\n",
    "q2_3 = ..."
   ]
  },
  {
   "cell_type": "code",
   "execution_count": null,
   "metadata": {
    "deletable": false,
    "editable": false
   },
   "outputs": [],
   "source": [
    "grader.check(\"q2\")"
   ]
  },
  {
   "cell_type": "markdown",
   "metadata": {},
   "source": [
    "Can you see why people are encouraged to start saving for retirement at a young age?"
   ]
  },
  {
   "cell_type": "markdown",
   "metadata": {
    "deletable": false,
    "editable": false
   },
   "source": [
    "**Question 3:** Let's now create a similar function as above, but this time let's find out how much money would be in an account where interest compounded *every 6 months*, while deposits continue to be made annually. For this question let even values of `t` correspond to the half-way point in the year when interest is compounded but you do not make a deposit, and odd values of `t` correspond to the ends/beginnings of years when both interest compounds and you do make a deposit.\n",
    "\n",
    "<!--\n",
    "BEGIN QUESTION\n",
    "name: q3\n",
    "points: \n",
    "    - 0\n",
    "    - 1\n",
    "    - 0\n",
    "    - 1\n",
    "-->"
   ]
  },
  {
   "cell_type": "code",
   "execution_count": 110,
   "metadata": {},
   "outputs": [],
   "source": [
    "def semi_annual_comp_interest(deposits, r, t):\n",
    "    balance = make_array()\n",
    "    balance = np.append(balance, deposits)\n",
    "    \n",
    "    for i in range(2 * t):\n",
    "        if i % 2 == 0:\n",
    "            balance = np.append(balance, balance.item(-1) * ...)\n",
    "        else:\n",
    "            balance = np.append(balance, balance.item(-1) * ...)\n",
    "            \n",
    "    return balance.item(-1) # Return the last element of balance."
   ]
  },
  {
   "cell_type": "code",
   "execution_count": null,
   "metadata": {
    "deletable": false,
    "editable": false
   },
   "outputs": [],
   "source": [
    "grader.check(\"q3\")"
   ]
  },
  {
   "cell_type": "markdown",
   "metadata": {},
   "source": [
    "## Options Basics"
   ]
  },
  {
   "cell_type": "markdown",
   "metadata": {},
   "source": [
    "Before we look at plots for option prices, let's make sure we understand how option pricing works. In the following section you will be asked a series of short questions. Unless otherwise stated, assume that each question is independent of the previous questions. Define the variable for each question with your numerical answer."
   ]
  },
  {
   "cell_type": "markdown",
   "metadata": {
    "deletable": false,
    "editable": false
   },
   "source": [
    "**Question 4.1:** Suppose you buy one share of Tesla for \\\\$700, and this constitutes the entirety of your portfolio. If next week Tesla's stock price goes up to \\\\$1400, how much is your account now worth?\n",
    "\n",
    "<!--\n",
    "BEGIN QUESTION\n",
    "name: q4_1\n",
    "points:\n",
    "    - 0\n",
    "    - 1\n",
    "-->"
   ]
  },
  {
   "cell_type": "code",
   "execution_count": 16,
   "metadata": {},
   "outputs": [],
   "source": [
    "q4_1 = ..."
   ]
  },
  {
   "cell_type": "code",
   "execution_count": null,
   "metadata": {
    "deletable": false,
    "editable": false
   },
   "outputs": [],
   "source": [
    "grader.check(\"q4_1\")"
   ]
  },
  {
   "cell_type": "markdown",
   "metadata": {
    "deletable": false,
    "editable": false
   },
   "source": [
    "**Question 4.2:** Continuing from the previous problem, if you were to sell your share of Tesla, how much profit would you have made from this trade?\n",
    "\n",
    "<!--\n",
    "BEGIN QUESTION\n",
    "name: q4_2\n",
    "points:\n",
    "    - 0\n",
    "    - 1\n",
    "-->"
   ]
  },
  {
   "cell_type": "code",
   "execution_count": 19,
   "metadata": {},
   "outputs": [],
   "source": [
    "q4_2 = ..."
   ]
  },
  {
   "cell_type": "code",
   "execution_count": null,
   "metadata": {
    "deletable": false,
    "editable": false
   },
   "outputs": [],
   "source": [
    "grader.check(\"q4_2\")"
   ]
  },
  {
   "cell_type": "markdown",
   "metadata": {
    "deletable": false,
    "editable": false
   },
   "source": [
    "**Question 5:** Suppose that after Tesla's price goes to \\\\$1400, you grow skeptical of the company and decide to short 10 shares of Tesla. Your broker allows you to short the stock at a price of \\\\$1 per share per week. After one week, Tesla's price falls to \\\\$1350 and you decide to close your position by buying back the shares and paying any fees necessary. How much profit have you made from this trade?\n",
    "\n",
    "<!--\n",
    "BEGIN QUESTION\n",
    "name: q5\n",
    "points:\n",
    "    - 0\n",
    "    - 2\n",
    "-->"
   ]
  },
  {
   "cell_type": "code",
   "execution_count": 22,
   "metadata": {},
   "outputs": [],
   "source": [
    "q5 = ..."
   ]
  },
  {
   "cell_type": "code",
   "execution_count": null,
   "metadata": {
    "deletable": false,
    "editable": false
   },
   "outputs": [],
   "source": [
    "grader.check(\"q5\")"
   ]
  },
  {
   "cell_type": "markdown",
   "metadata": {
    "deletable": false,
    "editable": false
   },
   "source": [
    "**Question 6:** Suppose that after Tesla's price goes to \\\\$1400, you grow skeptical of the company and decide to short 10 shares of Tesla. Your broker allows you to short the stock at a price of \\\\$1 per share per week. However, suppose that now your lack of faith is punished and Tesla's price increases to \\\\$1500 after one week. Nervous, you decide to close your position by buying back the shares and paying any fees necessary. How much did you profit (lose) from this trade? Please define your answer as a negative number.\n",
    "\n",
    "<!--\n",
    "BEGIN QUESTION\n",
    "name: q6\n",
    "points:\n",
    "    - 0\n",
    "    - 0\n",
    "    - 2\n",
    "-->"
   ]
  },
  {
   "cell_type": "code",
   "execution_count": 25,
   "metadata": {},
   "outputs": [],
   "source": [
    "q6 = ..."
   ]
  },
  {
   "cell_type": "code",
   "execution_count": null,
   "metadata": {
    "deletable": false,
    "editable": false
   },
   "outputs": [],
   "source": [
    "grader.check(\"q6\")"
   ]
  },
  {
   "cell_type": "markdown",
   "metadata": {
    "deletable": false,
    "editable": false
   },
   "source": [
    "**Question 7.1:** Suppose that owning Tesla stock makes you nervous due to the volatile nature of the stock price, and you would like to hedge your holdings by purchasing options. If you purchase 100 shares of Tesla, what kind of option would you need to purchase to hedge against extreme losses in the event that Tesla's price drops? Please pick one of the four following options: `'long call'`, `'long put'`, `'short call'`, `'short put'`, making sure that the formatting of your answer exactly matches this formatting.\n",
    "\n",
    "<!--\n",
    "BEGIN QUESTION\n",
    "name: q7_1\n",
    "points:\n",
    "    - 0\n",
    "    - 0\n",
    "    - 1\n",
    "-->"
   ]
  },
  {
   "cell_type": "code",
   "execution_count": 29,
   "metadata": {},
   "outputs": [],
   "source": [
    "q7_1 = ..."
   ]
  },
  {
   "cell_type": "code",
   "execution_count": null,
   "metadata": {
    "deletable": false,
    "editable": false
   },
   "outputs": [],
   "source": [
    "grader.check(\"q7_1\")"
   ]
  },
  {
   "cell_type": "markdown",
   "metadata": {
    "deletable": false,
    "editable": false
   },
   "source": [
    "**Question 7.2:** Continuing from the scenario above, you purchased your 100 shares for a price of \\\\$1000 each. Additionally, you purchased a long put for \\\\$100 with the following properties: strike of \\\\$800, expiration in one week. Immediately after making these purchases, assuming that they constitute the entirety of your portfolio, how much is your portfolio worth? For this group of questions we will acknowledge that options have value and not ignore their cost.\n",
    "\n",
    "<!--\n",
    "BEGIN QUESTION\n",
    "name: q7_2\n",
    "points:\n",
    "    - 0\n",
    "    - 0\n",
    "    - 0\n",
    "    - 1\n",
    "-->"
   ]
  },
  {
   "cell_type": "code",
   "execution_count": 33,
   "metadata": {},
   "outputs": [],
   "source": [
    "q7_2 = ..."
   ]
  },
  {
   "cell_type": "code",
   "execution_count": null,
   "metadata": {
    "deletable": false,
    "editable": false
   },
   "outputs": [],
   "source": [
    "grader.check(\"q7_2\")"
   ]
  },
  {
   "cell_type": "markdown",
   "metadata": {
    "deletable": false,
    "editable": false
   },
   "source": [
    "**Question 7.3:** Continuing from above, how much is your portfolio worth after one week has passed, assuming that Tesla's price remains at \\\\$1000 the entire time?\n",
    "\n",
    "<!--\n",
    "BEGIN QUESTION\n",
    "name: q7_3\n",
    "points:\n",
    "    - 0\n",
    "    - 1\n",
    "-->"
   ]
  },
  {
   "cell_type": "code",
   "execution_count": 38,
   "metadata": {},
   "outputs": [],
   "source": [
    "q7_3 = ..."
   ]
  },
  {
   "cell_type": "code",
   "execution_count": null,
   "metadata": {
    "deletable": false,
    "editable": false
   },
   "outputs": [],
   "source": [
    "grader.check(\"q7_3\")"
   ]
  },
  {
   "cell_type": "markdown",
   "metadata": {
    "deletable": false,
    "editable": false
   },
   "source": [
    "**Question 7.4:** Continuing from above, suppose that Tesla's price remained at \\\\$1000 for one week, but after that its price dropped to \\\\$700. Displeased with this, you decide to sell off your portfolio. How much did you gain (lose) in this scenario, from portfolio creation till now. If you lost money, please give your answer as a negative number.\n",
    "\n",
    "<!--\n",
    "BEGIN QUESTION\n",
    "name: q7_4\n",
    "points:\n",
    "    - 0\n",
    "    - 0\n",
    "    - 0\n",
    "    - 2\n",
    "-->"
   ]
  },
  {
   "cell_type": "code",
   "execution_count": 41,
   "metadata": {},
   "outputs": [],
   "source": [
    "q7_4 = ..."
   ]
  },
  {
   "cell_type": "code",
   "execution_count": null,
   "metadata": {
    "deletable": false,
    "editable": false
   },
   "outputs": [],
   "source": [
    "grader.check(\"q7_4\")"
   ]
  },
  {
   "cell_type": "markdown",
   "metadata": {
    "deletable": false,
    "editable": false
   },
   "source": [
    "**Question 7.5:** Suppose now you're in a similar situation as above, but instead Tesla's price drops to \\\\$700 the day after you form your portfolio. Displeased with this, you decide to sell off your portfolio, utilizing any options if it is profitable for you to do so. How much did you gain (lose) in this scenario, from portfolio creation till now. If you lost money, please give your answer as a negative number.\n",
    "\n",
    "<!--\n",
    "BEGIN QUESTION\n",
    "name: q7_5\n",
    "points:\n",
    "    - 0\n",
    "    - 0\n",
    "    - 0\n",
    "    - 0\n",
    "    - 2\n",
    "-->"
   ]
  },
  {
   "cell_type": "code",
   "execution_count": 46,
   "metadata": {},
   "outputs": [],
   "source": [
    "q7_5 = ..."
   ]
  },
  {
   "cell_type": "code",
   "execution_count": null,
   "metadata": {
    "deletable": false,
    "editable": false
   },
   "outputs": [],
   "source": [
    "grader.check(\"q7_5\")"
   ]
  },
  {
   "cell_type": "markdown",
   "metadata": {
    "deletable": false,
    "editable": false
   },
   "source": [
    "**Question 7.6:** Suppose now you're in a similar situation as above (you have a portfolio of 100 shares of Tesla and one long put on Tesla), but after one week has passed, Tesla's price goes up to \\\\$1100 (remember you bought it at \\\\$1000). Satisfied with this, you decide to sell off your portfolio, utilizing any options if it is profitable for you to do so. How much did you gain (lose) in this scenario, from portfolio creation till now. If you lost money, please give your answer as a negative number.\n",
    "\n",
    "<!--\n",
    "BEGIN QUESTION\n",
    "name: q7_6\n",
    "points:\n",
    "    - 0\n",
    "    - 0\n",
    "    - 0\n",
    "    - 2\n",
    "-->"
   ]
  },
  {
   "cell_type": "code",
   "execution_count": 52,
   "metadata": {},
   "outputs": [],
   "source": [
    "q7_6 = ..."
   ]
  },
  {
   "cell_type": "code",
   "execution_count": null,
   "metadata": {
    "deletable": false,
    "editable": false
   },
   "outputs": [],
   "source": [
    "grader.check(\"q7_6\")"
   ]
  },
  {
   "cell_type": "markdown",
   "metadata": {
    "deletable": false,
    "editable": false
   },
   "source": [
    "**Question 8.1:** Not wanting to live with the stress of owning a volatile stock like Tesla, you decide to create a new portfolio, this time with 100 shares of Apple stock for which you paid \\\\$350 apiece. Suppose that you have strong faith in the fundamentals of Apple, and don't mind temporary losses due to drops in Apple's price. You would, however, like to limit your potential gains and make some money by *selling* one call on Apple. The properties of this short call are as follows: you sold it for \\\\$200, it has a strike of \\\\$400, and it expires in one month. How much did it cost you to form this portfolio? For this question please define your answer as a positive number.\n",
    "\n",
    "<!--\n",
    "BEGIN QUESTION\n",
    "name: q8_1\n",
    "points:\n",
    "    - 0\n",
    "    - 0\n",
    "    - 1\n",
    "-->"
   ]
  },
  {
   "cell_type": "code",
   "execution_count": 57,
   "metadata": {},
   "outputs": [],
   "source": [
    "q8_1 = ..."
   ]
  },
  {
   "cell_type": "code",
   "execution_count": null,
   "metadata": {
    "deletable": false,
    "editable": false
   },
   "outputs": [],
   "source": [
    "grader.check(\"q8_1\")"
   ]
  },
  {
   "cell_type": "markdown",
   "metadata": {
    "deletable": false,
    "editable": false
   },
   "source": [
    "**Question 8.2:** Suppose Apple's stock price doesn't really change throughout the next month, and the option you sold expires worthless. After one month has passed from portfolio formation, you decide to sell another call option on Apple, with the same properties as above. Now how much has this portfolio cost you, from its creation till now? Again, please define your answer as a positive number.\n",
    "\n",
    "<!--\n",
    "BEGIN QUESTION\n",
    "name: q8_2\n",
    "points:\n",
    "    - 0\n",
    "    - 0\n",
    "    - 1\n",
    "-->"
   ]
  },
  {
   "cell_type": "code",
   "execution_count": 61,
   "metadata": {},
   "outputs": [],
   "source": [
    "q8_2 = ..."
   ]
  },
  {
   "cell_type": "code",
   "execution_count": null,
   "metadata": {
    "deletable": false,
    "editable": false
   },
   "outputs": [],
   "source": [
    "grader.check(\"q8_2\")"
   ]
  },
  {
   "cell_type": "markdown",
   "metadata": {
    "deletable": false,
    "editable": false
   },
   "source": [
    "**Question 8.3:** In fact, Apple's stock price doesn't really change for the next year. Assuming you repeat this process month after month for 12 months starting from portfolio creation (where you sell a call option on Apple that ends up expiring worthless one month later) how much has this portfolio cost you, from its creation till now? Again, please define your answer as a positive number.\n",
    "\n",
    "<!--\n",
    "BEGIN QUESTION\n",
    "name: q8_3\n",
    "points:\n",
    "    - 0\n",
    "    - 0\n",
    "    - 0\n",
    "    - 1\n",
    "-->"
   ]
  },
  {
   "cell_type": "code",
   "execution_count": 65,
   "metadata": {},
   "outputs": [],
   "source": [
    "q8_3 = ..."
   ]
  },
  {
   "cell_type": "code",
   "execution_count": null,
   "metadata": {
    "deletable": false,
    "editable": false
   },
   "outputs": [],
   "source": [
    "grader.check(\"q8_3\")"
   ]
  },
  {
   "cell_type": "markdown",
   "metadata": {
    "deletable": false,
    "editable": false
   },
   "source": [
    "**Question 8.4:** Continuing from above, after 12 months of this procedure have passed, you have now sold your 13th overall call option on Apple. The next day, Apple announces the AppleCar and their stock price jumps to \\\\$450. Because of this, your short call gets exercised, thus closing out your portfolio. How much money have you made (or lost) as a result of this portfolio, from creation till now? If you lost money, please give your answer as a negative number?\n",
    "\n",
    "<!--\n",
    "BEGIN QUESTION\n",
    "name: q8_4\n",
    "points:\n",
    "    - 0\n",
    "    - 0\n",
    "    - 0\n",
    "    - 2\n",
    "-->"
   ]
  },
  {
   "cell_type": "code",
   "execution_count": 70,
   "metadata": {},
   "outputs": [],
   "source": [
    "q8_4 = ..."
   ]
  },
  {
   "cell_type": "code",
   "execution_count": null,
   "metadata": {
    "deletable": false,
    "editable": false
   },
   "outputs": [],
   "source": [
    "grader.check(\"q8_4\")"
   ]
  },
  {
   "cell_type": "markdown",
   "metadata": {},
   "source": [
    "## Black-Scholes"
   ]
  },
  {
   "cell_type": "markdown",
   "metadata": {},
   "source": [
    "Recall the somewhat complicated-looking formula for the price of a European call and put option. Recall that for European options, we assume that you can only exercise the option on expiration. We also assume that there are no dividends, that stock prices are random and log-normally-distributed, and that the risk-free rate and volatility are constant across time. Do you think these are reasonable assumptions?\n",
    "\n",
    "Below is code that implements those equations and plots the option price across a range of possible prices of underlying stock. Also included in the plot is the payoff of the option when it's exercised."
   ]
  },
  {
   "cell_type": "code",
   "execution_count": 75,
   "metadata": {},
   "outputs": [],
   "source": [
    "def long_call(S, K, sigma, rf,  time):\n",
    "    d1 = (np.log(S/K) + (rf + 0.5*(sigma**2)) * time) / (sigma * (np.sqrt(time)))\n",
    "    d2 = d1 - sigma * np.sqrt(time)\n",
    "    return S * stats.norm.cdf(d1) - K * np.exp(-rf*time) * stats.norm.cdf(d2)\n",
    "\n",
    "def long_put(S, K, sigma, rf, time):\n",
    "    d1 = (np.log(S/K) + (rf + 0.5*(sigma**2)) * time)/(sigma * (np.sqrt(time)))\n",
    "    d2 = d1 - sigma*np.sqrt(time)\n",
    "    return K*np.exp(-rf*time)*stats.norm.cdf(-d2) - S * stats.norm.cdf(-d1)\n",
    "\n",
    "def plot(typ, S, K, sigma, rf, time):\n",
    "    plt.figure(figsize = (10,5))\n",
    "    \n",
    "    if typ == \"lc\":\n",
    "        payoff = np.maximum(0, np.linspace(1, 81, 500) - K)\n",
    "        prices = [long_call(i, K, sigma, rf, time) for i in np.linspace(1, 81, 500)]\n",
    "        plt.xlim(0,70)\n",
    "        plt.ylim(-10,50)\n",
    "        plt.title(\"Black-Scholes Long Call Price\")\n",
    "        \n",
    "    if typ == \"lp\":\n",
    "        payoff = np.maximum(0, K - np.linspace(1, 81, 500))\n",
    "        prices = [long_put(i, K, sigma, rf, time) for i in np.linspace(1, 81, 500)]\n",
    "        plt.xlim(0,70)\n",
    "        plt.ylim(-10,50)\n",
    "        plt.title(\"Black-Scholes Long Put Price\")\n",
    "        \n",
    "    if typ == \"sc\":\n",
    "        payoff = -np.maximum(0, np.linspace(1, 81, 500)-K)\n",
    "        prices = -np.array([long_call(i, K, sigma, rf, time) for i in np.linspace(1, 81, 500)])\n",
    "        plt.xlim(0,70)\n",
    "        plt.ylim(-50,10)\n",
    "        plt.title(\"Black-Scholes Short Call Price\")\n",
    "        \n",
    "    if typ == \"sp\":\n",
    "        payoff = -np.maximum(0, K-np.linspace(1, 81, 500))\n",
    "        prices = -np.array([long_put(i, K, sigma, rf, time) for i in np.linspace(1, 81, 500)])\n",
    "        plt.xlim(0,70)\n",
    "        plt.ylim(-50,10)\n",
    "        plt.title(\"Black-Scholes Short Put Price\")\n",
    "    \n",
    "    plt.plot(np.linspace(1, 81, 500), payoff)\n",
    "    plt.plot(np.linspace(1, 81, 500), prices)\n",
    "    plt.xlabel(\"Underlying Asset Price\")\n",
    "    plt.ylabel(\"Price/Payoff\")\n",
    "    plt.legend([\"Payoff Diagram\", \"Option Price\"])"
   ]
  },
  {
   "cell_type": "markdown",
   "metadata": {},
   "source": [
    "### Long Call"
   ]
  },
  {
   "cell_type": "code",
   "execution_count": 76,
   "metadata": {},
   "outputs": [],
   "source": [
    "# Long Call\n",
    "rf_slider = widgets.FloatSlider(min = 0.01, max = 0.2, step = 0.01, value = 0.1)\n",
    "sigma_slider = widgets.FloatSlider(min = 0.1, max = 0.9, step = 0.1, value = 0.5)\n",
    "K_slider = widgets.IntSlider(min = 10, max = 60, step = 5, value = 30)\n",
    "time_slider = widgets.FloatSlider(min = 0.1, max = 2, step = 0.1, value = 1)\n",
    "\n",
    "display(widgets.interactive(plot, K = K_slider, typ = fixed(\"lc\"), S = fixed(40), \n",
    "                            time = time_slider, rf = rf_slider, sigma = sigma_slider))"
   ]
  },
  {
   "cell_type": "markdown",
   "metadata": {},
   "source": [
    "### Long Put"
   ]
  },
  {
   "cell_type": "code",
   "execution_count": 77,
   "metadata": {},
   "outputs": [],
   "source": [
    "# Long Put\n",
    "rf_slider = widgets.FloatSlider(min = 0.01, max = 0.2, step = 0.01, value = 0.1)\n",
    "sigma_slider = widgets.FloatSlider(min = 0.1, max = 0.9, step = 0.1, value = 0.5)\n",
    "K_slider = widgets.IntSlider(min = 10, max = 60, step = 5, value = 30)\n",
    "time_slider = widgets.FloatSlider(min = 0.1, max = 2, step = 0.1, value = 1)\n",
    "\n",
    "display(widgets.interactive(plot, K = K_slider, typ = fixed(\"lp\"), S = fixed(40), \n",
    "                            time = time_slider, rf = rf_slider, sigma = sigma_slider))"
   ]
  },
  {
   "cell_type": "markdown",
   "metadata": {},
   "source": [
    "### Short Call"
   ]
  },
  {
   "cell_type": "code",
   "execution_count": 78,
   "metadata": {},
   "outputs": [],
   "source": [
    "# Short Call\n",
    "rf_slider = widgets.FloatSlider(min = 0.01, max = 0.2, step = 0.01, value = 0.1)\n",
    "sigma_slider = widgets.FloatSlider(min = 0.1, max = 0.9, step = 0.1, value = 0.5)\n",
    "K_slider = widgets.IntSlider(min = 10, max = 60, step = 5, value = 30)\n",
    "time_slider = widgets.FloatSlider(min = 0.1, max = 2, step = 0.1, value = 1)\n",
    "\n",
    "display(widgets.interactive(plot, K = K_slider, typ = fixed(\"sc\"), S = fixed(40), \n",
    "                            time = time_slider, rf = rf_slider, sigma = sigma_slider))"
   ]
  },
  {
   "cell_type": "markdown",
   "metadata": {},
   "source": [
    "### Short Put"
   ]
  },
  {
   "cell_type": "code",
   "execution_count": 79,
   "metadata": {},
   "outputs": [],
   "source": [
    "# Short Put\n",
    "rf_slider = widgets.FloatSlider(min = 0.01, max = 0.2, step = 0.01, value = 0.1)\n",
    "sigma_slider = widgets.FloatSlider(min = 0.1, max = 0.9, step = 0.1, value = 0.5)\n",
    "K_slider = widgets.IntSlider(min = 10, max = 60, step = 5, value = 30)\n",
    "time_slider = widgets.FloatSlider(min = 0.1, max = 2, step = 0.1, value = 1)\n",
    "\n",
    "display(widgets.interactive(plot, K = K_slider, typ = fixed(\"sp\"), S = fixed(40), \n",
    "                            time = time_slider, rf = rf_slider, sigma = sigma_slider))"
   ]
  },
  {
   "cell_type": "markdown",
   "metadata": {
    "deletable": false,
    "editable": false
   },
   "source": [
    "**Question 9**: Try out the sliders. Assign the variables `q9_1`, `q9_2`, `q9_3`, `q9_4`, and `q9_5`, corresponding to each of the statements below, to `True` or `False` depending on the accuracy of the statement.\n",
    "\n",
    "1. The price of a long call is higher than its payoff.\n",
    "2. The price of a long put is always higher than its payoff.\n",
    "3. If we were to plot the price of an American long put, its price would be higher than the price of the European long put\n",
    "4. Increasing volatility increases the price of a long call.\n",
    "5. Increasing the time to expiration increases the price of a long call.\n",
    "\n",
    "<!--\n",
    "BEGIN QUESTION\n",
    "name: q9\n",
    "points:\n",
    "    - 0\n",
    "    - .5\n",
    "    - .5\n",
    "    - .5\n",
    "    - .5\n",
    "    - .5\n",
    "-->"
   ]
  },
  {
   "cell_type": "code",
   "execution_count": 104,
   "metadata": {},
   "outputs": [],
   "source": [
    "q9_1 = ...\n",
    "q9_2 = ...\n",
    "q9_3 = ...\n",
    "q9_4 = ...\n",
    "q9_5 = ..."
   ]
  },
  {
   "cell_type": "code",
   "execution_count": null,
   "metadata": {
    "deletable": false,
    "editable": false
   },
   "outputs": [],
   "source": [
    "grader.check(\"q9\")"
   ]
  },
  {
   "cell_type": "markdown",
   "metadata": {},
   "source": [
    "For the curious: https://aaronschlegel.me/black-scholes-formula-python.html"
   ]
  },
  {
   "cell_type": "markdown",
   "metadata": {},
   "source": [
    "## Conclusion"
   ]
  },
  {
   "cell_type": "markdown",
   "metadata": {},
   "source": [
    "In the first part of the lab we explored the power of compound interest. Additionally, we practiced a bit coding ways to calculate the results of compound interest. In the second part of the lab, we turned our attention to options and portfolios. Hopefully you now have a better understanding of not only how options can be used in a portfolio, but also of the fact that options themselves have value."
   ]
  },
  {
   "cell_type": "markdown",
   "metadata": {},
   "source": [
    "---\n",
    "\n",
    "## Feedback\n",
    "\n",
    "The last question of this assignment will ask you to complete a short feedback survey, for which you will receive a free point! Please run the cell below to display the form. After you submit, you will receive a codeword from the confirmation page which you can enter below."
   ]
  },
  {
   "cell_type": "code",
   "execution_count": 87,
   "metadata": {},
   "outputs": [],
   "source": [
    "from IPython.display import display, IFrame\n",
    "display(IFrame(\"https://docs.google.com/forms/d/e/1FAIpQLSe0W7pXSSvmy6T2ap74uXzeNN4nCCy_s8NkLofU\"\n",
    "               \"mI2mhQlnvQ/viewform?embedded=true\", 800, 600))"
   ]
  },
  {
   "cell_type": "markdown",
   "metadata": {
    "deletable": false,
    "editable": false
   },
   "source": [
    "Enter your codeword below, assigning at as a string to `feedback_codeword`.\n",
    "\n",
    "<!--\n",
    "BEGIN QUESTION\n",
    "name: feedback\n",
    "points:\n",
    "    - 0\n",
    "    - 1\n",
    "-->"
   ]
  },
  {
   "cell_type": "code",
   "execution_count": 88,
   "metadata": {},
   "outputs": [],
   "source": [
    "feedback_codeword = \"...\"\n",
    "feedback_codeword"
   ]
  },
  {
   "cell_type": "code",
   "execution_count": null,
   "metadata": {
    "deletable": false,
    "editable": false
   },
   "outputs": [],
   "source": [
    "grader.check(\"feedback\")"
   ]
  },
  {
   "cell_type": "markdown",
   "metadata": {
    "deletable": false,
    "editable": false
   },
   "source": [
    "---\n",
    "\n",
    "To double-check your work, the cell below will rerun all of the autograder tests."
   ]
  },
  {
   "cell_type": "code",
   "execution_count": null,
   "metadata": {
    "deletable": false,
    "editable": false
   },
   "outputs": [],
   "source": [
    "grader.check_all()"
   ]
  },
  {
   "cell_type": "markdown",
   "metadata": {
    "deletable": false,
    "editable": false
   },
   "source": [
    "## Submission\n",
    "\n",
    "Make sure you have run all cells in your notebook in order before running the cell below, so that all images/graphs appear in the output. The cell below will generate a zip file for you to submit. **Please save before exporting!**"
   ]
  },
  {
   "cell_type": "code",
   "execution_count": null,
   "metadata": {
    "deletable": false,
    "editable": false
   },
   "outputs": [],
   "source": [
    "# Save your notebook first, then run this cell to export your submission.\n",
    "grader.export(pdf=False)"
   ]
  },
  {
   "cell_type": "markdown",
   "metadata": {},
   "source": [
    " "
   ]
  }
 ],
 "metadata": {
  "kernelspec": {
   "display_name": "Python 3",
   "language": "python",
   "name": "python3"
  },
  "language_info": {
   "codemirror_mode": {
    "name": "ipython",
    "version": 3
   },
   "file_extension": ".py",
   "mimetype": "text/x-python",
   "name": "python",
   "nbconvert_exporter": "python",
   "pygments_lexer": "ipython3",
   "version": "3.7.3"
  },
  "varInspector": {
   "cols": {
    "lenName": 16,
    "lenType": 16,
    "lenVar": 40
   },
   "kernels_config": {
    "python": {
     "delete_cmd_postfix": "",
     "delete_cmd_prefix": "del ",
     "library": "var_list.py",
     "varRefreshCmd": "print(var_dic_list())"
    },
    "r": {
     "delete_cmd_postfix": ") ",
     "delete_cmd_prefix": "rm(",
     "library": "var_list.r",
     "varRefreshCmd": "cat(var_dic_list()) "
    }
   },
   "types_to_exclude": [
    "module",
    "function",
    "builtin_function_or_method",
    "instance",
    "_Feature"
   ],
   "window_display": false
  }
 },
 "nbformat": 4,
 "nbformat_minor": 4
}
