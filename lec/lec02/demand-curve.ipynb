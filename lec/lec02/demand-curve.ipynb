{
 "cells": [
  {
   "cell_type": "markdown",
   "metadata": {},
   "source": [
    "# Creating a Demand Curve"
   ]
  },
  {
   "cell_type": "code",
   "execution_count": null,
   "metadata": {},
   "outputs": [],
   "source": [
    "import nbforms\n",
    "import numpy as np\n",
    "from datascience import *\n",
    "from ipywidgets import interact, interactive, fixed, interact_manual\n",
    "import ipywidgets as widgets\n",
    "%matplotlib inline\n",
    "import pandas as pd\n",
    "import matplotlib.pyplot as plt"
   ]
  },
  {
   "cell_type": "markdown",
   "metadata": {},
   "source": [
    "We will create a few demand curves based on the class. Start by running the cell below and logging in."
   ]
  },
  {
   "cell_type": "code",
   "execution_count": null,
   "metadata": {},
   "outputs": [],
   "source": [
    "form = nbforms.Form()"
   ]
  },
  {
   "cell_type": "markdown",
   "metadata": {},
   "source": [
    "Please run the cell below, fill out the questions, and then click Submit. The Submit button should turn green a few seconds after you click it once it registers your responses."
   ]
  },
  {
   "cell_type": "code",
   "execution_count": null,
   "metadata": {},
   "outputs": [],
   "source": [
    "form.ask()"
   ]
  },
  {
   "cell_type": "markdown",
   "metadata": {},
   "source": [
    "Now let's analyze the classes data by pulling in everyone's responses."
   ]
  },
  {
   "cell_type": "code",
   "execution_count": null,
   "metadata": {
    "scrolled": true
   },
   "outputs": [],
   "source": [
    "demand_table = (\n",
    "    form.to_table()\n",
    "    .relabeled(\"q1\", \"green tea kit kat\")\n",
    "    .relabeled(\"q2\", \"burrito\")\n",
    "    .relabeled(\"q3\", \"greek tickets\")\n",
    "    .relabeled(\"q4\", \"iphone 13\")\n",
    ")\n",
    "demand_table"
   ]
  },
  {
   "cell_type": "markdown",
   "metadata": {},
   "source": [
    "We need to turn all of this data into numeric types and preview them using histograms, one for each good. We will apply the `float` function to each column of the table; do not worry if you do not know what the code is doing."
   ]
  },
  {
   "cell_type": "code",
   "execution_count": null,
   "metadata": {},
   "outputs": [],
   "source": [
    "for label in demand_table.labels:\n",
    "    col = demand_table.apply(lambda s: float(s[1:]), label)\n",
    "    demand_table = demand_table.drop(label).with_column(label, col)\n",
    "    \n",
    "demand_table"
   ]
  },
  {
   "cell_type": "code",
   "execution_count": null,
   "metadata": {},
   "outputs": [],
   "source": [
    "demand_table.hist('green tea kit kat')\n",
    "demand_table.hist('burrito')\n",
    "demand_table.hist('greek tickets')\n",
    "demand_table.hist('iphone 13')"
   ]
  },
  {
   "cell_type": "markdown",
   "metadata": {},
   "source": [
    "We will only look at the demand for kit kats. How many people would buy green tea kit kats at a given price? Let's assume that a person would be willing to buy the good at a price less than their bid price.  "
   ]
  },
  {
   "cell_type": "code",
   "execution_count": null,
   "metadata": {},
   "outputs": [],
   "source": [
    "# This is a column of bid values for Greeen Tea Kitkats that you've all inputted. \n",
    "kit_kats = demand_table.select('green tea kit kat')\n",
    "kit_kats"
   ]
  },
  {
   "cell_type": "code",
   "execution_count": null,
   "metadata": {},
   "outputs": [],
   "source": [
    "# This cell does some python magic. You do not need to worry about what's going on. \n",
    "prices = pd.DataFrame({'price':[0.25, 0.5, 0.75, 1.00, 1.25, 1.5,1.75,2]})\n",
    "KitkatsByPrice = kit_kats.group(\"green tea kit kat\")\n",
    "kkp = KitkatsByPrice.to_df()\n",
    "gtk = (\n",
    "    prices\n",
    "    .merge(kkp, left_on='price', how='left', right_on='green tea kit kat')\n",
    "    .fillna(0).drop('green tea kit kat', axis=1)\n",
    ")\n",
    "kit_kats_table = Table.from_df(gtk)\n",
    "Q_demand = np.flip(np.cumsum(np.flip(kit_kats_table.group(\"price\", sum).column(1))))\n",
    "gtk_demand = Table().with_columns(\n",
    "    'price', prices.price, \n",
    "    'quantity', Q_demand\n",
    ")\n",
    "gtk_demand"
   ]
  },
  {
   "cell_type": "code",
   "execution_count": null,
   "metadata": {},
   "outputs": [],
   "source": [
    "# Let's graph our results\n",
    "gtk_demand.scatter(\"quantity\", \"price\")\n",
    "plt.xlabel('Quantity')\n",
    "plt.ylabel('Price')\n",
    "plt.title('Demand for Green Tea Kitkats');"
   ]
  },
  {
   "cell_type": "markdown",
   "metadata": {},
   "source": [
    "Now let's find the slope and intercept of the line of best fit. The cell below defines some functions that you'll learn about in the later portions of Data 8."
   ]
  },
  {
   "cell_type": "code",
   "execution_count": null,
   "metadata": {},
   "outputs": [],
   "source": [
    "std_units = lambda a: (a - np.mean(a)) / np.std(a)\n",
    "corr = lambda x, y: np.mean(std_units(x) * std_units(y))\n",
    "slope = lambda x, y: corr(x, y) * np.std(y) / np.std(x)\n",
    "intercept = lambda x, y: np.mean(y) - slope(x, y) * np.mean(x)"
   ]
  },
  {
   "cell_type": "code",
   "execution_count": null,
   "metadata": {
    "scrolled": true
   },
   "outputs": [],
   "source": [
    "slope(gtk_demand[\"quantity\"], gtk_demand[\"price\"])"
   ]
  },
  {
   "cell_type": "code",
   "execution_count": null,
   "metadata": {},
   "outputs": [],
   "source": [
    "intercept(gtk_demand[\"quantity\"], gtk_demand[\"price\"])"
   ]
  },
  {
   "cell_type": "markdown",
   "metadata": {},
   "source": [
    " "
   ]
  }
 ],
 "metadata": {
  "@webio": {
   "lastCommId": null,
   "lastKernelId": null
  },
  "kernelspec": {
   "display_name": "Python 3",
   "language": "python",
   "name": "python3"
  },
  "language_info": {
   "codemirror_mode": {
    "name": "ipython",
    "version": 3
   },
   "file_extension": ".py",
   "mimetype": "text/x-python",
   "name": "python",
   "nbconvert_exporter": "python",
   "pygments_lexer": "ipython3",
   "version": "3.7.3"
  }
 },
 "nbformat": 4,
 "nbformat_minor": 4
}
