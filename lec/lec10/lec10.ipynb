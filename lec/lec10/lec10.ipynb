{
 "cells": [
  {
   "cell_type": "markdown",
   "metadata": {
    "cell_id": "00000-fbc1280d-78ce-4c4a-a437-d0b2c85f32a1",
    "deepnote_cell_type": "markdown",
    "tags": []
   },
   "source": [
    "<table style=\"width: 100%;\" id=\"nb-header\">\n",
    "    <tr style=\"background-color: transparent;\"><td>\n",
    "        <img src=\"https://data-88e.github.io/assets/images/blue_text.png\" width=\"250px\" style=\"margin-left: 0;\" />\n",
    "    </td><td>\n",
    "        <p style=\"text-align: right; font-size: 10pt;\"><strong>Economic Models</strong>, Spring 2021<br>\n",
    "            Dr. Eric Van Dusen <br>\n",
    "        Alan Liang, Umar Maniku <br>\n",
    "</table>"
   ]
  },
  {
   "cell_type": "markdown",
   "metadata": {
    "cell_id": "00001-311d4cd6-e221-4f0b-aa4f-ae28b4cd0708",
    "deepnote_cell_type": "markdown",
    "tags": []
   },
   "source": [
    "# Lecture 10: Macroeconomics Policy"
   ]
  },
  {
   "cell_type": "code",
   "execution_count": null,
   "metadata": {
    "cell_id": "00000-45c93090-e487-4ff0-bb52-350d099bea59",
    "deepnote_cell_type": "code",
    "deepnote_to_be_reexecuted": false,
    "execution_millis": 130,
    "execution_start": 1617004432781,
    "source_hash": "94d23af7",
    "tags": []
   },
   "outputs": [],
   "source": [
    "import pandas as pd\n",
    "import numpy as np\n",
    "import matplotlib.pyplot as plt\n",
    "from datascience import * \n",
    "from ipywidgets import interact, interactive, fixed, interact_manual\n",
    "import ipywidgets as widgets\n",
    "%matplotlib inline"
   ]
  },
  {
   "cell_type": "code",
   "execution_count": null,
   "metadata": {
    "cell_id": "00001-9ceaa9f4-af32-44c4-9c6d-ca5a6afbd662",
    "deepnote_cell_type": "code",
    "deepnote_to_be_reexecuted": false,
    "execution_millis": 311,
    "execution_start": 1617004432921,
    "source_hash": "1b8f5617",
    "tags": []
   },
   "outputs": [],
   "source": [
    "gdp = pd.read_csv(\"real_gdp_over_time.csv\")\n",
    "gdp_growth = pd.read_csv(\"real_growth_over_time.csv\")\n",
    "inflation = pd.read_csv(\"inflation_over_time.csv\")\n",
    "unemployment = pd.read_csv(\"unemployment_over_time.csv\")\n",
    "deficit = pd.read_csv(\"deficit_over_time.csv\")\n",
    "ffr = pd.read_csv(\"fedfunds.csv\")\n",
    "potential_gdp = pd.read_csv(\"potential_gdp.csv\")\n",
    "unemployment_gap = pd.read_csv(\"nrou.csv\")\n",
    "\n",
    "gdp = gdp.set_index(\"DATE\")\n",
    "gdp_growth = gdp_growth.set_index(\"DATE\")\n",
    "inflation = inflation.set_index(\"DATE\")\n",
    "unemployment = unemployment.set_index(\"DATE\")\n",
    "deficit = deficit.set_index(\"DATE\")\n",
    "ffr = ffr.set_index(\"DATE\")\n",
    "unemployment_gap = unemployment_gap.set_index(\"DATE\")\n",
    "potential_gdp = potential_gdp.set_index(\"DATE\")\n",
    "\n",
    "macroeconomics = gdp.merge(gdp_growth, left_index = True, right_index = True)\\\n",
    "                    .merge(inflation, left_index = True, right_index = True)\\\n",
    "                    .merge(unemployment, left_index = True, right_index = True)\\\n",
    "                    .merge(ffr, left_index = True, right_index = True)\n",
    "\n",
    "potential_gdp = potential_gdp[potential_gdp.index <= max(macroeconomics.index)]"
   ]
  },
  {
   "cell_type": "code",
   "execution_count": null,
   "metadata": {
    "cell_id": "00005-9fcd8932-1afe-4c20-a6aa-47c27a849285",
    "deepnote_cell_type": "code",
    "deepnote_to_be_reexecuted": false,
    "execution_millis": 83,
    "execution_start": 1617004435015,
    "source_hash": "db63cab6",
    "tags": []
   },
   "outputs": [],
   "source": [
    "macroeconomics.head()"
   ]
  },
  {
   "cell_type": "markdown",
   "metadata": {
    "cell_id": "00002-098b381e-d2e1-4675-8315-94c19a8e145c",
    "deepnote_cell_type": "markdown"
   },
   "source": [
    "## Time series: 1958 to present"
   ]
  },
  {
   "cell_type": "code",
   "execution_count": null,
   "metadata": {
    "cell_id": "00004-3cbbfb7c-92a6-499f-82d8-ee4c8956892d",
    "deepnote_cell_type": "code",
    "deepnote_to_be_reexecuted": false,
    "execution_millis": 2878,
    "execution_start": 1617004443815,
    "scrolled": false,
    "source_hash": "2fef9928",
    "tags": []
   },
   "outputs": [],
   "source": [
    "fig, ax = plt.subplots(6, 1)\n",
    "for axe, col in zip(ax.flatten(), list(macroeconomics.columns) + [\"DEFICIT\"]):\n",
    "    if col == \"DEFICIT\":\n",
    "        axe.plot(deficit.index, deficit.DEFICIT)\n",
    "        axe.set_xticks(np.arange(0, deficit.shape[0], 5))\n",
    "        axe.set_xticklabels(deficit.index[np.arange(0, deficit.shape[0], 5)], rotation=45)\n",
    "        axe.set_title(col)\n",
    "        axe.grid()\n",
    "        axe.axhline(color=\"black\", linewidth=3)\n",
    "    else:\n",
    "        axe.plot(macroeconomics.index, macroeconomics[col])\n",
    "        axe.set_xticks(np.arange(0, macroeconomics.shape[0], 20))\n",
    "        axe.set_xticklabels(macroeconomics.index[np.arange(0, macroeconomics.shape[0], 20)], rotation=45)\n",
    "        axe.set_title(col)\n",
    "        axe.grid()\n",
    "        axe.axhline(color=\"black\", linewidth=3)\n",
    "\n",
    "plt.subplots_adjust(left=None, bottom=None, right=None, top=None, wspace=None, hspace=0.7)\n",
    "fig.set_size_inches(16, 60)"
   ]
  },
  {
   "cell_type": "markdown",
   "metadata": {
    "cell_id": "00004-04b76d90-97de-40a5-8583-0c300da354b8",
    "deepnote_cell_type": "markdown"
   },
   "source": [
    "## Macroeconomic Indicators during the pandemic"
   ]
  },
  {
   "cell_type": "code",
   "execution_count": null,
   "metadata": {
    "cell_id": "00005-5cae9280-150b-4698-a709-b8af168d3683",
    "deepnote_cell_type": "code",
    "deepnote_to_be_reexecuted": false,
    "execution_millis": 4,
    "execution_start": 1617004459765,
    "source_hash": "b319d194"
   },
   "outputs": [],
   "source": [
    "covid = macroeconomics[macroeconomics.index >= \"2019-01-01\"]\n",
    "covid_deficit = deficit[deficit.index >= \"2019-01-01\"]\n",
    "covid_potential_gdp = potential_gdp[potential_gdp.index >= \"2019-01-01\"]\n",
    "covid_ffr = ffr[ffr.index >= \"2019-01-01\"]"
   ]
  },
  {
   "cell_type": "code",
   "execution_count": null,
   "metadata": {
    "cell_id": "00006-a999537a-bd14-444d-9863-9509b84db88d",
    "deepnote_cell_type": "code",
    "deepnote_to_be_reexecuted": false,
    "execution_millis": 1825,
    "execution_start": 1617004460930,
    "scrolled": false,
    "source_hash": "bbeb0480"
   },
   "outputs": [],
   "source": [
    "fig, ax = plt.subplots(6, 1)\n",
    "for axe, col in zip(ax.flatten(), list(covid.columns) + [\"DEFICIT\"]):\n",
    "    if col == \"DEFICIT\":\n",
    "        axe.plot(covid_deficit.index, covid_deficit.DEFICIT)\n",
    "        axe.set_xticks(covid_deficit.index)\n",
    "        axe.set_xticklabels(covid_deficit.index, rotation=45)\n",
    "        axe.set_title(col)\n",
    "        axe.grid()\n",
    "        axe.axhline(color=\"black\", linewidth=3)\n",
    "    else:\n",
    "        axe.plot(covid.index, covid[col])\n",
    "        axe.set_xticks(covid.index)\n",
    "        axe.set_xticklabels(covid.index, rotation=45)\n",
    "        axe.set_title(col)\n",
    "        axe.grid()\n",
    "        axe.axhline(color=\"black\", linewidth=3)\n",
    "\n",
    "plt.subplots_adjust(left=None, bottom=None, right=None, top=None, wspace=None, hspace=0.7)\n",
    "fig.set_size_inches(16, 60)"
   ]
  },
  {
   "cell_type": "markdown",
   "metadata": {
    "cell_id": "00007-1dde6721-733c-4f4e-99fd-201eab786faa",
    "deepnote_cell_type": "markdown"
   },
   "source": [
    "## Federal Funds Rate and The Taylor Rule: 1958 to Present"
   ]
  },
  {
   "cell_type": "markdown",
   "metadata": {},
   "source": [
    "### Taylor Rule:\n",
    "$$\n",
    "r_{\\text{predicted}} = r_{\\text{target}} + \\pi + \\alpha \\left ( \\pi - \\pi_{\\text{target}} \\right ) + \\beta \\left ( \\dfrac{Y - Y^*}{Y^*} \\right )\n",
    "$$"
   ]
  },
  {
   "cell_type": "code",
   "execution_count": null,
   "metadata": {
    "cell_id": "00006-23d337b4-47f3-4672-806e-476f1ea1856a",
    "deepnote_cell_type": "code",
    "deepnote_to_be_reexecuted": false,
    "execution_millis": 1,
    "execution_start": 1617004486515,
    "source_hash": "4cf01a39",
    "tags": []
   },
   "outputs": [],
   "source": [
    "def taylor_rule(interest_rate_target, inflation, inflation_target, output, potential_output, alpha=0.5, beta=0.5):\n",
    "    return interest_rate_target + inflation + alpha * (inflation - inflation_target) + \\\n",
    "            beta * ((output - potential_output) / potential_output) * 100"
   ]
  },
  {
   "cell_type": "code",
   "execution_count": null,
   "metadata": {
    "cell_id": "00009-dbf89a1b-e5ec-47c7-a0ef-b231ff5958e2",
    "deepnote_cell_type": "code",
    "deepnote_to_be_reexecuted": false,
    "execution_millis": 5,
    "execution_start": 1617004486988,
    "source_hash": "6d62ebe6"
   },
   "outputs": [],
   "source": [
    "def taylor_rule_plotter(arr, ffr_arr=None, label=None):\n",
    "    plt.figure(figsize=(17, 9))\n",
    "    if ffr_arr is not None:\n",
    "        plt.plot(ffr_arr, label=\"FFR\")\n",
    "        plt.xticks(np.arange(0, ffr_arr.shape[0]), rotation=60)\n",
    "    else:\n",
    "        plt.plot(macroeconomics.loc[:, \"FEDFUNDS\"], label=\"FFR\")\n",
    "        plt.xticks(np.arange(0, ffr.shape[0], 20), rotation=60)\n",
    "    plt.plot(arr, label=label)\n",
    "    plt.legend()\n",
    "    plt.grid()\n",
    "    plt.axhline(color=\"black\", linewidth=2)\n",
    "    plt.show();"
   ]
  },
  {
   "cell_type": "code",
   "execution_count": null,
   "metadata": {
    "cell_id": "00003-a112ac4b-c3ca-41be-ba9e-6eb630ab0d78",
    "deepnote_cell_type": "code",
    "deepnote_to_be_reexecuted": false,
    "execution_millis": 1227,
    "execution_start": 1617004488927,
    "source_hash": "2d77c6d6",
    "tags": []
   },
   "outputs": [],
   "source": [
    "taylor_rule_preds = taylor_rule(2, macroeconomics.loc[:, \"INFLATION\"], 2, \n",
    "                                macroeconomics.loc[:, \"GDP\"], potential_gdp.loc[:, \"GDPPOT\"])\n",
    "\n",
    "taylor_rule_plotter(taylor_rule_preds, label=r\"Taylor Rule FFR with $\\alpha$=0.5 and $\\beta$=0.5\")"
   ]
  },
  {
   "cell_type": "markdown",
   "metadata": {
    "cell_id": "00011-95ecef75-ba23-4337-91a3-1ef9829e4e53",
    "deepnote_cell_type": "markdown"
   },
   "source": [
    "## FFR and The Taylor Rule during the pandemic"
   ]
  },
  {
   "cell_type": "code",
   "execution_count": null,
   "metadata": {
    "cell_id": "00012-4ebca897-8450-4d37-a580-26271bafa673",
    "deepnote_cell_type": "code",
    "deepnote_to_be_reexecuted": false,
    "execution_millis": 638,
    "execution_start": 1617004518513,
    "source_hash": "51e00b3b"
   },
   "outputs": [],
   "source": [
    "taylor_rule_preds_covid = taylor_rule(2, covid.loc[:, \"INFLATION\"], 2, \n",
    "                                covid.loc[:, \"GDP\"], covid_potential_gdp.loc[:, \"GDPPOT\"])\n",
    "\n",
    "taylor_rule_plotter(taylor_rule_preds_covid, ffr_arr=covid.loc[:, \"FEDFUNDS\"], \n",
    "                    label=r\"Taylor Rule FFR with $\\alpha$=0.5 and $\\beta$=0.5\")"
   ]
  },
  {
   "cell_type": "code",
   "execution_count": null,
   "metadata": {
    "cell_id": "00007-6cdd05a4-3db2-4b24-95d8-5196113e908d",
    "deepnote_cell_type": "code",
    "deepnote_to_be_reexecuted": false,
    "execution_millis": 12,
    "execution_start": 1617004521997,
    "source_hash": "1306038c",
    "tags": []
   },
   "outputs": [],
   "source": [
    "def taylor_rmse(alpha, beta):\n",
    "    taylor_interest_rate = np.array(taylor_rule(2, macroeconomics.loc[:, \"INFLATION\"], 2, \n",
    "                                                macroeconomics.loc[:, \"GDP\"], potential_gdp.loc[:, \"GDPPOT\"], \n",
    "                                                alpha = alpha, beta = beta))\n",
    "    actual_interest_rate = np.array(macroeconomics.FEDFUNDS)\n",
    "    return np.mean(((taylor_interest_rate - actual_interest_rate) ** 2))"
   ]
  },
  {
   "cell_type": "code",
   "execution_count": null,
   "metadata": {
    "cell_id": "00014-65105c3c-aac1-41ad-a26e-a209e5ee9d25",
    "deepnote_cell_type": "code",
    "deepnote_to_be_reexecuted": false,
    "execution_millis": 13,
    "execution_start": 1617004523415,
    "source_hash": "f6d5fbad"
   },
   "outputs": [],
   "source": [
    "def taylor_widget(alpha, beta):\n",
    "    rmse = taylor_rmse(alpha, beta)\n",
    "    print(f\"RMSE: {rmse}\")\n",
    "    taylor_rule_preds = taylor_rule(2, macroeconomics.loc[:, \"INFLATION\"], 2, \n",
    "                                macroeconomics.loc[:, \"GDP\"], potential_gdp.loc[:, \"GDPPOT\"], \n",
    "                                    alpha=alpha, beta=beta)\n",
    "    taylor_rule_plotter(taylor_rule_preds, \n",
    "                        label=rf\"Taylor Rule FFR with $\\alpha$={alpha} and $\\beta$={beta}\");"
   ]
  },
  {
   "cell_type": "code",
   "execution_count": null,
   "metadata": {
    "cell_id": "00015-bfeeca01-3561-4788-84c0-d90621c3392f",
    "deepnote_cell_type": "code",
    "deepnote_to_be_reexecuted": false,
    "execution_millis": 1260,
    "execution_start": 1617004524169,
    "scrolled": false,
    "source_hash": "795b8b66"
   },
   "outputs": [],
   "source": [
    "alpha_widget = widgets.FloatSlider(min=-1, max=2, step=0.01, value=0.5)\n",
    "beta_widget = widgets.FloatSlider(min=-1, max=2, step=0.01, value=0.5)\n",
    "interact(taylor_widget, alpha=alpha_widget, beta=beta_widget)"
   ]
  },
  {
   "cell_type": "markdown",
   "metadata": {
    "cell_id": "00016-24229d67-2491-4b2b-bc22-fbee063ceaec",
    "deepnote_cell_type": "markdown"
   },
   "source": [
    "## Optimizing for $\\alpha$, $\\beta$"
   ]
  },
  {
   "cell_type": "code",
   "execution_count": null,
   "metadata": {
    "cell_id": "00009-95f3e544-beaf-4fff-bdbb-68471600d820",
    "deepnote_cell_type": "code",
    "deepnote_to_be_reexecuted": false,
    "execution_millis": 306,
    "execution_start": 1617004542147,
    "source_hash": "5b8f03f5",
    "tags": []
   },
   "outputs": [],
   "source": [
    "alpha, beta = minimize(taylor_rmse)\n",
    "print(f\"RMSE using optimized parameters: {taylor_rmse(alpha, beta)}\")\n",
    "print(f\"alpha: {alpha}, beta: {beta}\")"
   ]
  },
  {
   "cell_type": "code",
   "execution_count": null,
   "metadata": {
    "cell_id": "00010-8d4fd35d-a182-4be4-9bcc-be53d18de156",
    "deepnote_cell_type": "code",
    "deepnote_to_be_reexecuted": false,
    "execution_millis": 3053,
    "execution_start": 1617004543220,
    "source_hash": "77aa72a8",
    "tags": []
   },
   "outputs": [],
   "source": [
    "taylor_rule_preds = taylor_rule(2, macroeconomics.loc[:, \"INFLATION\"], 2, \n",
    "                                macroeconomics.loc[:, \"GDP\"], potential_gdp.loc[:, \"GDPPOT\"], \n",
    "                                alpha=alpha, beta=beta)\n",
    "taylor_rule_preds_basic = taylor_rule(2, macroeconomics.loc[:, \"INFLATION\"], 2, \n",
    "                                      macroeconomics.loc[:, \"GDP\"], potential_gdp.loc[:, \"GDPPOT\"], \n",
    "                                      alpha=0.5, beta=0.5)\n",
    "\n",
    "plt.figure(figsize=(15, 8))\n",
    "plt.plot(ffr, label=\"FFR\")\n",
    "plt.plot(taylor_rule_preds, label=fr\"Taylor Rule FFR optimized with $\\alpha={np.round(alpha, 2)}$ and $\\beta={np.round(beta, 2)}$\")\n",
    "plt.plot(taylor_rule_preds_basic, label=r\"Taylor Rule FFR with $\\alpha$=0.5 and $\\beta$=0.5\")\n",
    "plt.xticks(rotation=45)\n",
    "plt.xticks(np.arange(0, ffr.shape[0], 20), rotation=60)\n",
    "plt.legend()\n",
    "plt.grid()\n",
    "plt.title(\"FFR vs. Taylor Rule FFR\")\n",
    "plt.show();"
   ]
  }
 ],
 "metadata": {
  "deepnote": {},
  "deepnote_execution_queue": [],
  "deepnote_notebook_id": "59984a21-9207-47a0-80d4-a0f6e905e666",
  "kernelspec": {
   "display_name": "Python 3",
   "language": "python",
   "name": "python3"
  },
  "language_info": {
   "codemirror_mode": {
    "name": "ipython",
    "version": 3
   },
   "file_extension": ".py",
   "mimetype": "text/x-python",
   "name": "python",
   "nbconvert_exporter": "python",
   "pygments_lexer": "ipython3",
   "version": "3.8.8"
  }
 },
 "nbformat": 4,
 "nbformat_minor": 2
}
