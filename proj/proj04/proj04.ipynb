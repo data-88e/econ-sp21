{
 "cells": [
  {
   "cell_type": "code",
   "execution_count": null,
   "metadata": {
    "deletable": false,
    "editable": false
   },
   "outputs": [],
   "source": [
    "# Initialize Otter\n",
    "import otter\n",
    "grader = otter.Notebook(\"proj04.ipynb\")"
   ]
  },
  {
   "cell_type": "markdown",
   "metadata": {
    "cell_id": "00000-f10cef5f-a49a-4a97-b824-9a682c75a8e9",
    "tags": []
   },
   "source": [
    "<table style=\"width: 100%;\" id=\"nb-header>\">\n",
    "        <tr style=\"background-color: transparent;\"><td>\n",
    "            <img src=\"https://data-88e.github.io/assets/images/blue_text.png\" width=\"250px\" style=\"margin-left: 0;\" />\n",
    "        </td><td>\n",
    "            <p style=\"text-align: right; font-size: 10pt;\"><strong>Economic Models</strong>, Spring 2021<br>\n",
    "                Dr. Eric Van Dusen<br>\n",
    "            Notebook by Andrei Caprau and Alan Liang</p></td></tr>\n",
    "    </table>"
   ]
  },
  {
   "cell_type": "markdown",
   "metadata": {
    "cell_id": "00001-935aceaa-ea9b-46d0-b213-0dffd31516d5",
    "tags": []
   },
   "source": [
    "# Project 4: Econometrics\n",
    "\n",
    "In this project we'll be taking a look at datasets related to college education and exploring questions revolving around the relationships between years of education and various factors."
   ]
  },
  {
   "cell_type": "code",
   "execution_count": 2,
   "metadata": {
    "cell_id": "00000-2e2747fa-b1ed-403a-a4e6-89020612ff05",
    "execution_millis": 34,
    "execution_start": 1604896220007,
    "output_cleared": false,
    "source_hash": "ed573ab7",
    "tags": []
   },
   "outputs": [],
   "source": [
    "import numpy as np\n",
    "from datascience import *\n",
    "import statsmodels.api as sm\n",
    "import matplotlib.pyplot as plt\n",
    "import warnings\n",
    "warnings.simplefilter(action='ignore')\n",
    "plt.style.use('seaborn-muted')\n",
    "%matplotlib inline\n",
    "plt.rcParams[\"figure.figsize\"] = [10,7]"
   ]
  },
  {
   "cell_type": "markdown",
   "metadata": {
    "cell_id": "00003-5a24b42d-3f9a-4665-abb1-3880341711ec",
    "tags": []
   },
   "source": [
    "## Part 1: College Distance\n",
    "\n",
    "We will begin by examining the relationship between years of schooling and a person's distance to the nearest college when in high school. The idea here is to see if there are any effects of proximity to a college and how much education a person receives.\n",
    "\n",
    "The data for this section is from the paper *Democratization or Diversion? The Effect of Community Colleges on Educational Attainment* by Cecilia Rouse (1995).\n",
    "\n",
    "To explore this problem, we will import a dataset called `college_distance.csv`, which contains several relevant features for a random sample of high school seniors interviewed in 1980 and re-interviewed in 1986.\n",
    "The table contains the following columns:\n",
    "\n",
    "- `yrsed`: Years of Education Completed$^1$\n",
    "- `female`: Binary variable (1 = female, 0 otherwise)\n",
    "- `black`: Binary variable (1 = black, 0 otherwise)\n",
    "- `hispanic`: Binary variable (1 = Hispanic, 0 otherwise)\n",
    "- `bytest`: Basic year composite test score. These are achievement tests given to high school seniors.\n",
    "- `dadcoll`: Binary variable (1 = father is a college graduate, 0 otherwise)\n",
    "- `momcoll`: Binary variable (1 = mother is a college graduate, 0 otherwise)\n",
    "- `incomehi`: Binary variable (1 = family income > \\$25,000 per year, 0 otherwise)\n",
    "- `ownhome`: Binary variable (1 = family owns their home, 0 otherwise)\n",
    "- `urban`: Binary variable (1 = high school in urban area, 0 otherwise)\n",
    "- `cue80`: County unemployment rate in 1980 (%)\n",
    "- `stwmfg80`: Average state hourly wage in manufacturing in 1980\n",
    "- `dist`: Distance from 4-year college (in 10s of miles)\n",
    "- `tuition`: Average state 4 year college tuition (in 1000s of dollars)\n",
    "\n",
    "$^1$: Rouse computed years of education by assigning 12 years to all members of the senior class. Each additional year of secondary education counted as a one year. Student’s with vocational degrees were assigned 13 years, AA degrees were assigned 14 years, BA degrees were assigned 16 years, those with some graduate education were assigned 17 years, and those with a graduate degree were assigned 18 years.\n"
   ]
  },
  {
   "cell_type": "code",
   "execution_count": 3,
   "metadata": {
    "cell_id": "00003-fb630703-c4b1-437a-962d-9144bfa3ddb6",
    "execution_millis": 30,
    "execution_start": 1604896532696,
    "output_cleared": false,
    "source_hash": "a5be9ea1",
    "tags": []
   },
   "outputs": [],
   "source": [
    "distance = Table.read_table('college_distance.csv')\n",
    "distance"
   ]
  },
  {
   "cell_type": "markdown",
   "metadata": {
    "cell_id": "00005-c7b0b06a-ae89-4dd7-91ae-df4b61a77942",
    "deletable": false,
    "editable": false,
    "tags": []
   },
   "source": [
    "<!-- BEGIN QUESTION -->\n",
    "\n",
    "**Question 1.1:** What do you expect the sign of the relationship between years of schooling and distance to nearest college to be? Provide a possible and brief explanation for the sign.\n",
    "\n",
    "<!--\n",
    "BEGIN QUESTION\n",
    "name: q1_1\n",
    "manual: true\n",
    "-->"
   ]
  },
  {
   "cell_type": "markdown",
   "metadata": {},
   "source": [
    "_Type your answer here, replacing this text._"
   ]
  },
  {
   "cell_type": "markdown",
   "metadata": {
    "cell_id": "00007-1c674449-2871-4d4c-86c9-adfc057812a9",
    "deletable": false,
    "editable": false,
    "tags": []
   },
   "source": [
    "<!-- END QUESTION -->\n",
    "\n",
    "**Question 1.2:** Consider the following single-variable regression:\n",
    "\n",
    "$$\\text{Years of Education} = \\beta_1 \\times \\text{Distance from College} + \\alpha$$ \n",
    "\n",
    "Fit the above regression of years of education `yrsed` onto distance to the nearest college `dist`. \n",
    "\n",
    "*Hint*: Make sure to always add a column of 1's.\n",
    "\n",
    "<!--\n",
    "BEGIN QUESTION\n",
    "name: q1_2\n",
    "-->"
   ]
  },
  {
   "cell_type": "code",
   "execution_count": 4,
   "metadata": {
    "cell_id": "00005-440992aa-8391-4ab5-bb3a-70f53a578b61",
    "execution_millis": 23,
    "execution_start": 1604897859001,
    "output_cleared": false,
    "source_hash": "4865f798",
    "tags": []
   },
   "outputs": [],
   "source": [
    "y_1_2 = ...\n",
    "X_1_2 = ...\n",
    "model_1_2 = ...\n",
    "results_1_2 = ...\n",
    "results_1_2.summary()"
   ]
  },
  {
   "cell_type": "code",
   "execution_count": null,
   "metadata": {
    "deletable": false,
    "editable": false
   },
   "outputs": [],
   "source": [
    "grader.check(\"q1_2\")"
   ]
  },
  {
   "cell_type": "markdown",
   "metadata": {
    "cell_id": "00010-af574915-bd45-47d0-a1f5-1d44842f9308",
    "deletable": false,
    "editable": false,
    "tags": []
   },
   "source": [
    "**Question 1.3:** What is the estimated relationship between distance and years of schooling? Assign `slope_1_3` to the estimated slope (to at least 4 decimal places). Is this statistically significant? Assign `significant_1_3` to either `True` or `False`, corresponding to whether or not the slope if statistically significant.\n",
    "<!--\n",
    "BEGIN QUESTION\n",
    "name: q1_3\n",
    "-->"
   ]
  },
  {
   "cell_type": "code",
   "execution_count": 8,
   "metadata": {
    "cell_id": "00011-9b4b5f9e-8823-4620-a97c-e5f1b22106e2",
    "execution_millis": 1,
    "execution_start": 1604898223480,
    "output_cleared": false,
    "source_hash": "3fe58bf",
    "tags": []
   },
   "outputs": [],
   "source": [
    "slope_1_3 = ...\n",
    "significant_1_3 = ..."
   ]
  },
  {
   "cell_type": "code",
   "execution_count": null,
   "metadata": {
    "deletable": false,
    "editable": false
   },
   "outputs": [],
   "source": [
    "grader.check(\"q1_3\")"
   ]
  },
  {
   "cell_type": "markdown",
   "metadata": {
    "cell_id": "00019-2f7bb315-2766-42f4-a4c5-d1f1536d9e2f",
    "deletable": false,
    "editable": false,
    "tags": []
   },
   "source": [
    "<!-- BEGIN QUESTION -->\n",
    "\n",
    "**Question 1.4:** Interpret the slope coefficient on `dist` with the appropriate units. Does this value align with our intuition from 1.1? \n",
    "Interpret the y-intercept term. \n",
    "<!--\n",
    "BEGIN QUESTION\n",
    "name: q1_4\n",
    "manual: true\n",
    "-->"
   ]
  },
  {
   "cell_type": "markdown",
   "metadata": {},
   "source": [
    "_Type your answer here, replacing this text._"
   ]
  },
  {
   "cell_type": "markdown",
   "metadata": {
    "cell_id": "00011-11b5ae21-7bc6-4ef0-83e3-562c0f8fc94c",
    "deletable": false,
    "editable": false,
    "tags": []
   },
   "source": [
    "<!-- END QUESTION -->\n",
    "\n",
    "<!-- BEGIN QUESTION -->\n",
    "\n",
    "**Question 1.5:** What could be a potential confounding variable in the above regression? Do you expect this confounding factor to overstate or understate our coefficient on `dist`? Why? Give clear reasoning for how the confounding variable affects both independent and dependent variables, like discussed in lecture.\n",
    "<!--\n",
    "BEGIN QUESTION\n",
    "name: q1_5\n",
    "manual: true\n",
    "-->"
   ]
  },
  {
   "cell_type": "markdown",
   "metadata": {},
   "source": [
    "_Type your answer here, replacing this text._"
   ]
  },
  {
   "cell_type": "markdown",
   "metadata": {
    "cell_id": "00019-894ba6dc-4782-4d5f-a724-73a9eb1f2348",
    "deletable": false,
    "editable": false,
    "tags": []
   },
   "source": [
    "<!-- END QUESTION -->\n",
    "\n",
    "**Question 1.6:** Now consider the following longer regression:\n",
    "\n",
    "$$\\text{Years of Education} = \\beta_1 \\times \\text{Distance from College} + \\beta_2 \\times \\text{High Income Family} + \\alpha$$ \n",
    "\n",
    "fit a regression model for years of education `yrsed` onto both distance to the nearest college `dist`, and family income `incomehi`.\n",
    "<!--\n",
    "BEGIN QUESTION\n",
    "name: q1_6\n",
    "-->"
   ]
  },
  {
   "cell_type": "code",
   "execution_count": 15,
   "metadata": {
    "cell_id": "00022-f5c025eb-b65a-4a45-b001-8a4dcd806764",
    "execution_millis": 48,
    "execution_start": 1604898909507,
    "output_cleared": false,
    "source_hash": "985e678",
    "tags": []
   },
   "outputs": [],
   "source": [
    "y_1_6 = ...\n",
    "X_1_6 = ...\n",
    "model_1_6 = ...\n",
    "results_1_6 = ...\n",
    "results_1_6.summary()"
   ]
  },
  {
   "cell_type": "code",
   "execution_count": null,
   "metadata": {
    "deletable": false,
    "editable": false
   },
   "outputs": [],
   "source": [
    "grader.check(\"q1_6\")"
   ]
  },
  {
   "cell_type": "markdown",
   "metadata": {
    "cell_id": "00025-12febc27-ec7f-40c0-b161-63213d95cc93",
    "deletable": false,
    "editable": false,
    "tags": []
   },
   "source": [
    "**Question 1.7:** Now what is the estimated relationship between distance and years of schooling? Assign `slope_1_7` to the estimated slope (to at least 4 decimal places). Is this statistically significant? Assign `significant_1_7` to either `True` or `False`, corresponding to whether or not the slope if statistically significant.\n",
    "<!--\n",
    "BEGIN QUESTION\n",
    "name: q1_7\n",
    "-->"
   ]
  },
  {
   "cell_type": "code",
   "execution_count": 18,
   "metadata": {
    "cell_id": "00029-16e5e2df-f8a6-4bcd-9f88-a53d1172cad6",
    "execution_millis": 0,
    "execution_start": 1604899930593,
    "output_cleared": false,
    "source_hash": "2badb47f",
    "tags": []
   },
   "outputs": [],
   "source": [
    "slope_1_7 = ...\n",
    "significant_1_7 = ..."
   ]
  },
  {
   "cell_type": "code",
   "execution_count": null,
   "metadata": {
    "deletable": false,
    "editable": false
   },
   "outputs": [],
   "source": [
    "grader.check(\"q1_7\")"
   ]
  },
  {
   "cell_type": "markdown",
   "metadata": {
    "cell_id": "00029-816c1165-9811-460f-b256-ddbec2db8b65",
    "deletable": false,
    "editable": false,
    "tags": []
   },
   "source": [
    "<!-- BEGIN QUESTION -->\n",
    "\n",
    "**Question 1.8:** How does this new slope for distance to college compare to the previous one? What does this say about family income?\n",
    "<!--\n",
    "BEGIN QUESTION\n",
    "name: q1_8\n",
    "manual: true\n",
    "-->"
   ]
  },
  {
   "cell_type": "markdown",
   "metadata": {},
   "source": [
    "_Type your answer here, replacing this text._"
   ]
  },
  {
   "cell_type": "markdown",
   "metadata": {
    "cell_id": "00030-cc70a36a-9f72-4ede-8884-d21c8f60c81f",
    "deletable": false,
    "editable": false,
    "tags": []
   },
   "source": [
    "<!-- END QUESTION -->\n",
    "\n",
    "**Question 1.9:** Now fit a linear regression with the additional regressors `bytest`, `female`, `black`, `hispanic`, `incomehi`,  `ownhome`, `dadcoll`, `momcoll`, `cue80`, and `stwnfg80` (along with `dist`).\n",
    "\n",
    "<!--\n",
    "BEGIN QUESTION\n",
    "name: q1_9\n",
    "-->\n"
   ]
  },
  {
   "cell_type": "code",
   "execution_count": 23,
   "metadata": {
    "cell_id": "00035-1c7ff8d9-0993-4c75-ab24-6fb23b598479",
    "execution_millis": 18,
    "execution_start": 1604900212413,
    "output_cleared": false,
    "source_hash": "b76f3c5a",
    "tags": []
   },
   "outputs": [],
   "source": [
    "y_1_9 = ...\n",
    "X_1_9 = ...\n",
    "model_1_9 = ...\n",
    "results_1_9 = ...\n",
    "results_1_9.summary()"
   ]
  },
  {
   "cell_type": "code",
   "execution_count": null,
   "metadata": {
    "deletable": false,
    "editable": false
   },
   "outputs": [],
   "source": [
    "grader.check(\"q1_9\")"
   ]
  },
  {
   "cell_type": "markdown",
   "metadata": {
    "cell_id": "00037-609636e0-ccc8-4a8f-81df-517faf539be6",
    "deletable": false,
    "editable": false,
    "tags": []
   },
   "source": [
    "<!-- BEGIN QUESTION -->\n",
    "\n",
    "**Question 1.10:** Further compare the slope on distance to college in our most recent regression with the previous two regressions. What does this suggest about the collective group of variables we included in addition to `dist`, regarding the idea of omitted variable bias?\n",
    "<!--\n",
    "BEGIN QUESTION\n",
    "name: q1_10\n",
    "manual: true\n",
    "-->"
   ]
  },
  {
   "cell_type": "markdown",
   "metadata": {},
   "source": [
    "_Type your answer here, replacing this text._"
   ]
  },
  {
   "cell_type": "markdown",
   "metadata": {
    "cell_id": "00036-90ab12ef-0b95-47b0-bec3-f03e43d436c7",
    "deletable": false,
    "editable": false,
    "tags": []
   },
   "source": [
    "<!-- END QUESTION -->\n",
    "\n",
    "<!-- BEGIN QUESTION -->\n",
    "\n",
    "**Question 1.11:** The value of the coefficient on `dadcoll` should be positive. What does this coefficient measure? Interpret this effect.\n",
    "<!--\n",
    "BEGIN QUESTION\n",
    "name: q1_11\n",
    "manual: true\n",
    "-->"
   ]
  },
  {
   "cell_type": "markdown",
   "metadata": {},
   "source": [
    "_Type your answer here, replacing this text._"
   ]
  },
  {
   "cell_type": "markdown",
   "metadata": {
    "cell_id": "00043-346a6fa6-6a52-4e92-a4aa-6e96d4ba59cb",
    "deletable": false,
    "editable": false,
    "tags": []
   },
   "source": [
    "<!-- END QUESTION -->\n",
    "\n",
    "<!-- BEGIN QUESTION -->\n",
    "\n",
    "**Question 1.12:** Explain why `cue80` and `stwmfg80` appear in the regression. Are the signs of their estimated coefficients what you would have believed? Explain.\n",
    "\n",
    "<!--\n",
    "BEGIN QUESTION\n",
    "name: q1_12\n",
    "manual: true\n",
    "-->"
   ]
  },
  {
   "cell_type": "markdown",
   "metadata": {},
   "source": [
    "_Type your answer here, replacing this text._"
   ]
  },
  {
   "cell_type": "markdown",
   "metadata": {
    "cell_id": "00046-8a5bcef2-7884-4ee2-997b-8ea84f2c297f",
    "deletable": false,
    "editable": false,
    "tags": []
   },
   "source": [
    "<!-- END QUESTION -->\n",
    "\n",
    "<!-- BEGIN QUESTION -->\n",
    "\n",
    "**Question 1.13:** A policymaker who wants to increase the average years of schooling of the population sees your results and concludes that more colleges should to be built such that people are closer to colleges. Do you agree with this proposal? Why or why not?\n",
    "\n",
    "<!--\n",
    "BEGIN QUESTION\n",
    "name: q1_13\n",
    "manual: true\n",
    "-->"
   ]
  },
  {
   "cell_type": "markdown",
   "metadata": {},
   "source": [
    "_Type your answer here, replacing this text._"
   ]
  },
  {
   "cell_type": "markdown",
   "metadata": {
    "cell_id": "00048-9ccfaf3f-910e-4bda-887f-18efaf8d533e",
    "deletable": false,
    "editable": false,
    "tags": []
   },
   "source": [
    "<!-- END QUESTION -->\n",
    "\n",
    "**Question 1.14:** Let's try and make a prediction. \n",
    "\n",
    "Bob is a white non-Hispanic male. His high school was 20 miles from the nearest college. His base-year composite test score `bytest` was 58. \n",
    "His family income in 1980 was \\\\$26,000,\n",
    "and his family owned a home. His mother attended college, but his father did not.\n",
    "The unemployment rate in his county was 7.5%, and the state average manufacturing\n",
    "hourly wage was \\\\$9.75. Predict Bob’s years of completed schooling using the regressions\n",
    "in 1.6 and 1.9. \n",
    "\n",
    "Assign `bob_schooling_1_9` to the predicted schooling using the model in 1.9 and assign `bob_schooling_1_6` to the predicted schooling using the model in 1.6.\n",
    "\n",
    "<!--\n",
    "BEGIN QUESTION\n",
    "name: q1_14\n",
    "-->\n"
   ]
  },
  {
   "cell_type": "code",
   "execution_count": 28,
   "metadata": {
    "cell_id": "00049-540963fb-6fd9-4182-8a6c-b9be3cfabdbd",
    "execution_millis": 11,
    "execution_start": 1604902639894,
    "output_cleared": false,
    "source_hash": "752e5512",
    "tags": []
   },
   "outputs": [],
   "source": [
    "bob_schooling_1_9 = ...\n",
    "bob_schooling_1_6 = ...\n",
    "\n",
    "print(\"Bob's predicted years of schooling in the long model is:\", bob_schooling_1_9)\n",
    "print(\"Bob's predicted years of schooling in the short model is:\", bob_schooling_1_6)"
   ]
  },
  {
   "cell_type": "code",
   "execution_count": null,
   "metadata": {
    "deletable": false,
    "editable": false
   },
   "outputs": [],
   "source": [
    "grader.check(\"q1_14\")"
   ]
  },
  {
   "cell_type": "markdown",
   "metadata": {
    "cell_id": "00054-6619eeb2-4039-49f0-9ad9-165f86d514c7",
    "tags": []
   },
   "source": [
    "## Part 2: Diploma Effect\n",
    "\n",
    "Before we were only considering years of schooling as a continuous variable and not paying much attention to the significance of certain years. \n",
    "In reality, it seems natural to think that 16 years of schooling, which is how long it takes for most people to obtain a Bachelor's degree, is a more significant jump from 15 than a typical one-year increase in schooling would be.\n",
    "\n",
    "In this next part we examine the question of whether or not a diploma makes a significant difference in a person's earnings. In other words, is there a significant difference between certain jumps in schooling (11 to 12, 15 to 16) that would indicate a benefit from a diploma in addition to the additional year of schooling?\n",
    "\n",
    "Below you will see a table from Jaeger and Page's paper entitled *Degrees Matter: New Evidence on Sheepskin Effects in the Returns to Education* (1996). Let's take a minute to understand it.\n",
    "First, each column corresponds to a diffferent regression that they performed, with the title of the column denoting the demographic of people that were regressed on. So in the first column, they performed a regression only on the white men of their dataset. \n",
    "- The outcome variable is log hourly wage.\n",
    "- The years of schooling dummy variables bucket individuals into 10 groups *except* the dummy variable corresponding to 12 years of schooling. The groups are 0-8, 9, 10, 11, 13, 14, 15, 16, 17, and 18+ years of schooling. Note that these buckets are *mutually exclusive and collectively exhaustive*.\n",
    "- The diploma variables are  dummy variables that represent the individual's highest diploma received. For example, if Alice received 16 years of schooling and received a High School, Bachelor's, and Master's degree, only the dummy variable for 16 years of schooling and dummy variable for Master's degree will be 1.\n",
    "\n",
    "The regression Jaeger and Page conduct roughly looks as follows:\n",
    "\n",
    "$$\\text{Log income} = \\sum_i \\beta_i \\times \\text{Dummy variable for having i years of education} + \\sum_j \\gamma_j \\times \\text{Dummy variable for having highest degree j} + \\alpha$$"
   ]
  },
  {
   "cell_type": "markdown",
   "metadata": {
    "cell_id": "00055-a5f2ff30-3b31-4aa8-b9b2-13ace6e9882f",
    "tags": []
   },
   "source": [
    "![title](jaeger_page.png)"
   ]
  },
  {
   "cell_type": "markdown",
   "metadata": {
    "cell_id": "00056-3c5aa63e-58a5-4d47-98b4-cff08dcdfdfa",
    "deletable": false,
    "editable": false,
    "tags": []
   },
   "source": [
    "<!-- BEGIN QUESTION -->\n",
    "\n",
    "**Question 2.1:** \n",
    "Why do you think Jaeger and Page estimate 4 different models separately for white men, white women, black men, and black women? \n",
    "\n",
    "<!--\n",
    "BEGIN QUESTION\n",
    "name: q2_1\n",
    "manual: true\n",
    "-->"
   ]
  },
  {
   "cell_type": "markdown",
   "metadata": {},
   "source": [
    "_Type your answer here, replacing this text._"
   ]
  },
  {
   "cell_type": "markdown",
   "metadata": {
    "cell_id": "00058-b287e436-f824-4ec8-a20e-0080d94912e1",
    "tags": []
   },
   "source": [
    "<!-- END QUESTION -->\n",
    "\n",
    "\n",
    "\n",
    "From now on, to keep the rest of the project short, we will only examine the regression results of model 1, i.e. the regression conducted on white men."
   ]
  },
  {
   "cell_type": "markdown",
   "metadata": {
    "cell_id": "00056-53ac2c2a-73cd-430f-8de5-4ce850ceb0a6",
    "deletable": false,
    "editable": false,
    "tags": []
   },
   "source": [
    "<!-- BEGIN QUESTION -->\n",
    "\n",
    "**Question 2.2:** Why might the effect in earnings of the 14th year of education be larger than that of the 15th?\n",
    "\n",
    "<!--\n",
    "BEGIN QUESTION\n",
    "name: q2_2\n",
    "manual: true\n",
    "-->"
   ]
  },
  {
   "cell_type": "markdown",
   "metadata": {},
   "source": [
    "_Type your answer here, replacing this text._"
   ]
  },
  {
   "cell_type": "markdown",
   "metadata": {
    "cell_id": "00061-e46878f4-8272-46ef-9a71-eda7fa57efa1",
    "deletable": false,
    "editable": false,
    "tags": []
   },
   "source": [
    "<!-- END QUESTION -->\n",
    "\n",
    "<!-- BEGIN QUESTION -->\n",
    "\n",
    "**Question 2.3:** Notice that there is no dummy variable associated for individuals with 12 years of schooling. Why might this be? As a result of this exclusion, how do you interpret the coefficient on 14 years of schooling.\n",
    "\n",
    "<!--\n",
    "BEGIN QUESTION\n",
    "name: q2_3\n",
    "manual: true\n",
    "-->"
   ]
  },
  {
   "cell_type": "markdown",
   "metadata": {},
   "source": [
    "_Type your answer here, replacing this text._"
   ]
  },
  {
   "cell_type": "markdown",
   "metadata": {
    "cell_id": "00062-85a8f620-9015-4aff-a11b-c97df7400329",
    "deletable": false,
    "editable": false,
    "tags": []
   },
   "source": [
    "<!-- END QUESTION -->\n",
    "\n",
    "<!-- BEGIN QUESTION -->\n",
    "\n",
    "**Question 2.4:** Why is the coefficient on doctoral degrees less than that on high school degrees? \n",
    "Does this mean that high school graduates make more than PhD graduates? Why or why not?\n",
    "\n",
    "<!--\n",
    "BEGIN QUESTION\n",
    "name: q2_4\n",
    "manual: true\n",
    "-->"
   ]
  },
  {
   "cell_type": "markdown",
   "metadata": {},
   "source": [
    "_Type your answer here, replacing this text._"
   ]
  },
  {
   "cell_type": "markdown",
   "metadata": {
    "cell_id": "00065-5751dacd-dbaa-4bb4-9f49-64d22975d433",
    "tags": []
   },
   "source": [
    "<!-- END QUESTION -->\n",
    "\n",
    "\n",
    "\n",
    "## Conclusion\n",
    "Very nice, you've finished Project 4! You've conducted a soup to nuts analysis that involved performing, comparing, and interpreting several regressions to examine sources of omitted variable bias. \n",
    "You've also interpreted a jam-packed table from a noteworthy economics paper that fortified your intuition on ordinary least squares linear regression. We hope you enjoyed the project just as much as we did writing it :')\n",
    "\n",
    "Congratulations for finishing your last project in Data 88! "
   ]
  },
  {
   "cell_type": "markdown",
   "metadata": {
    "deletable": false,
    "editable": false
   },
   "source": [
    "---\n",
    "\n",
    "To double-check your work, the cell below will rerun all of the autograder tests."
   ]
  },
  {
   "cell_type": "code",
   "execution_count": null,
   "metadata": {
    "deletable": false,
    "editable": false
   },
   "outputs": [],
   "source": [
    "grader.check_all()"
   ]
  },
  {
   "cell_type": "markdown",
   "metadata": {
    "deletable": false,
    "editable": false
   },
   "source": [
    "## Submission\n",
    "\n",
    "Make sure you have run all cells in your notebook in order before running the cell below, so that all images/graphs appear in the output. The cell below will generate a zip file for you to submit. **Please save before exporting!**"
   ]
  },
  {
   "cell_type": "code",
   "execution_count": null,
   "metadata": {
    "deletable": false,
    "editable": false
   },
   "outputs": [],
   "source": [
    "# Save your notebook first, then run this cell to export your submission.\n",
    "grader.export()"
   ]
  },
  {
   "cell_type": "markdown",
   "metadata": {},
   "source": [
    " "
   ]
  }
 ],
 "metadata": {
  "deepnote_execution_queue": [],
  "deepnote_notebook_id": "785d9af7-7c98-48fa-97f0-4310fcce279c",
  "kernelspec": {
   "display_name": "Python 3",
   "language": "python",
   "name": "python3"
  },
  "language_info": {
   "codemirror_mode": {
    "name": "ipython",
    "version": 3
   },
   "file_extension": ".py",
   "mimetype": "text/x-python",
   "name": "python",
   "nbconvert_exporter": "python",
   "pygments_lexer": "ipython3",
   "version": "3.7.3"
  }
 },
 "nbformat": 4,
 "nbformat_minor": 4
}
